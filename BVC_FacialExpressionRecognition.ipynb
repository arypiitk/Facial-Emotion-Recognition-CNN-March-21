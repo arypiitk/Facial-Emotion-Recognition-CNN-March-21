{
  "nbformat": 4,
  "nbformat_minor": 0,
  "metadata": {
    "accelerator": "GPU",
    "colab": {
      "name": "BVC_FacialExpressionRecognition.ipynb",
      "provenance": [],
      "collapsed_sections": []
    },
    "kernelspec": {
      "display_name": "Python 3",
      "name": "python3"
    },
    "language_info": {
      "name": "python"
    }
  },
  "cells": [
    {
      "cell_type": "code",
      "metadata": {
        "colab": {
          "base_uri": "https://localhost:8080/"
        },
        "id": "1yRcwCkYCDeB",
        "outputId": "013758c7-1e57-4716-b263-bf47ef3a82a9"
      },
      "source": [
        "from google.colab import drive\n",
        "drive.mount('/content/drive')"
      ],
      "execution_count": null,
      "outputs": [
        {
          "output_type": "stream",
          "text": [
            "Mounted at /content/drive\n"
          ],
          "name": "stdout"
        }
      ]
    },
    {
      "cell_type": "code",
      "metadata": {
        "id": "ORTjU3D7JI3v"
      },
      "source": [
        "import pandas as pd\n",
        "import numpy as np\n",
        "import matplotlib.pyplot as plt\n",
        "from tensorflow import keras"
      ],
      "execution_count": null,
      "outputs": []
    },
    {
      "cell_type": "code",
      "metadata": {
        "id": "ps3EnG-sJ7pW"
      },
      "source": [
        "data = pd.read_csv('/content/drive/MyDrive/FER2013/fer2013.csv')"
      ],
      "execution_count": null,
      "outputs": []
    },
    {
      "cell_type": "code",
      "metadata": {
        "colab": {
          "base_uri": "https://localhost:8080/",
          "height": 206
        },
        "id": "jpChVc7YLNY6",
        "outputId": "55f0b005-d16a-4764-db80-d53698aef287"
      },
      "source": [
        "df = data\n",
        "df.head()"
      ],
      "execution_count": null,
      "outputs": [
        {
          "output_type": "execute_result",
          "data": {
            "text/html": [
              "<div>\n",
              "<style scoped>\n",
              "    .dataframe tbody tr th:only-of-type {\n",
              "        vertical-align: middle;\n",
              "    }\n",
              "\n",
              "    .dataframe tbody tr th {\n",
              "        vertical-align: top;\n",
              "    }\n",
              "\n",
              "    .dataframe thead th {\n",
              "        text-align: right;\n",
              "    }\n",
              "</style>\n",
              "<table border=\"1\" class=\"dataframe\">\n",
              "  <thead>\n",
              "    <tr style=\"text-align: right;\">\n",
              "      <th></th>\n",
              "      <th>emotion</th>\n",
              "      <th>pixels</th>\n",
              "      <th>Usage</th>\n",
              "    </tr>\n",
              "  </thead>\n",
              "  <tbody>\n",
              "    <tr>\n",
              "      <th>0</th>\n",
              "      <td>0</td>\n",
              "      <td>70 80 82 72 58 58 60 63 54 58 60 48 89 115 121...</td>\n",
              "      <td>Training</td>\n",
              "    </tr>\n",
              "    <tr>\n",
              "      <th>1</th>\n",
              "      <td>0</td>\n",
              "      <td>151 150 147 155 148 133 111 140 170 174 182 15...</td>\n",
              "      <td>Training</td>\n",
              "    </tr>\n",
              "    <tr>\n",
              "      <th>2</th>\n",
              "      <td>2</td>\n",
              "      <td>231 212 156 164 174 138 161 173 182 200 106 38...</td>\n",
              "      <td>Training</td>\n",
              "    </tr>\n",
              "    <tr>\n",
              "      <th>3</th>\n",
              "      <td>4</td>\n",
              "      <td>24 32 36 30 32 23 19 20 30 41 21 22 32 34 21 1...</td>\n",
              "      <td>Training</td>\n",
              "    </tr>\n",
              "    <tr>\n",
              "      <th>4</th>\n",
              "      <td>6</td>\n",
              "      <td>4 0 0 0 0 0 0 0 0 0 0 0 3 15 23 28 48 50 58 84...</td>\n",
              "      <td>Training</td>\n",
              "    </tr>\n",
              "  </tbody>\n",
              "</table>\n",
              "</div>"
            ],
            "text/plain": [
              "   emotion                                             pixels     Usage\n",
              "0        0  70 80 82 72 58 58 60 63 54 58 60 48 89 115 121...  Training\n",
              "1        0  151 150 147 155 148 133 111 140 170 174 182 15...  Training\n",
              "2        2  231 212 156 164 174 138 161 173 182 200 106 38...  Training\n",
              "3        4  24 32 36 30 32 23 19 20 30 41 21 22 32 34 21 1...  Training\n",
              "4        6  4 0 0 0 0 0 0 0 0 0 0 0 3 15 23 28 48 50 58 84...  Training"
            ]
          },
          "metadata": {
            "tags": []
          },
          "execution_count": 4
        }
      ]
    },
    {
      "cell_type": "code",
      "metadata": {
        "colab": {
          "base_uri": "https://localhost:8080/"
        },
        "id": "YzqkJ-Q3LVpR",
        "outputId": "39065d69-0746-4a1a-cb5f-04ec2ef7653e"
      },
      "source": [
        "df.emotion.unique()"
      ],
      "execution_count": null,
      "outputs": [
        {
          "output_type": "execute_result",
          "data": {
            "text/plain": [
              "array([0, 2, 4, 6, 3, 5, 1])"
            ]
          },
          "metadata": {
            "tags": []
          },
          "execution_count": 5
        }
      ]
    },
    {
      "cell_type": "code",
      "metadata": {
        "id": "7rHDJp9WLpBD"
      },
      "source": [
        "label = {0:'anger', 1:'disgust', 2:'fear', 3:'happiness', 4:'sadness', 5:'surprise', 6:'neutral'}"
      ],
      "execution_count": null,
      "outputs": []
    },
    {
      "cell_type": "code",
      "metadata": {
        "colab": {
          "base_uri": "https://localhost:8080/"
        },
        "id": "o61CtWkuNB6I",
        "outputId": "ca775a27-80fa-4b08-8ebf-c0ce20f48d5c"
      },
      "source": [
        "emValues = df.emotion.values\n",
        "emValues[:5]"
      ],
      "execution_count": null,
      "outputs": [
        {
          "output_type": "execute_result",
          "data": {
            "text/plain": [
              "array([0, 0, 2, 4, 6])"
            ]
          },
          "metadata": {
            "tags": []
          },
          "execution_count": 7
        }
      ]
    },
    {
      "cell_type": "code",
      "metadata": {
        "colab": {
          "base_uri": "https://localhost:8080/",
          "height": 285
        },
        "id": "nppMj1Z3MeSV",
        "outputId": "7b443dd6-4b62-4d41-929d-5d17e511467a"
      },
      "source": [
        "plt.imshow(np.array(data.pixels.loc[3].split(' ')).reshape(48,48).astype(float))"
      ],
      "execution_count": null,
      "outputs": [
        {
          "output_type": "execute_result",
          "data": {
            "text/plain": [
              "<matplotlib.image.AxesImage at 0x7fb2bf760190>"
            ]
          },
          "metadata": {
            "tags": []
          },
          "execution_count": 8
        },
        {
          "output_type": "display_data",
          "data": {
            "image/png": "[encoded data removed]",
            "text/plain": [
              "<Figure size 432x288 with 1 Axes>"
            ]
          },
          "metadata": {
            "tags": [],
            "needs_background": "light"
          }
        }
      ]
    },
    {
      "cell_type": "code",
      "metadata": {
        "id": "LI9MAg4-NaD1"
      },
      "source": [
        "img_array = data.pixels.apply(lambda x : np.array(x.split(' ')).reshape(48,48,1).astype('float32'))"
      ],
      "execution_count": null,
      "outputs": []
    },
    {
      "cell_type": "code",
      "metadata": {
        "id": "IOtRyDrNQWPB"
      },
      "source": [
        "img_array = np.stack(img_array, axis=0)"
      ],
      "execution_count": null,
      "outputs": []
    },
    {
      "cell_type": "code",
      "metadata": {
        "colab": {
          "base_uri": "https://localhost:8080/",
          "height": 285
        },
        "id": "dTiJmAO_Qfp5",
        "outputId": "a5b7acd6-e1d7-4691-d495-6ad7e1f4df25"
      },
      "source": [
        "plt.imshow(img_array[4].reshape(48,48))"
      ],
      "execution_count": null,
      "outputs": [
        {
          "output_type": "execute_result",
          "data": {
            "text/plain": [
              "<matplotlib.image.AxesImage at 0x7fb2c6b943d0>"
            ]
          },
          "metadata": {
            "tags": []
          },
          "execution_count": 11
        },
        {
          "output_type": "display_data",
          "data": {
            "image/png": "[encoded data removed]",
            "text/plain": [
              "<Figure size 432x288 with 1 Axes>"
            ]
          },
          "metadata": {
            "tags": [],
            "needs_background": "light"
          }
        }
      ]
    },
    {
      "cell_type": "code",
      "metadata": {
        "colab": {
          "base_uri": "https://localhost:8080/"
        },
        "id": "K_a_RrEgRQGi",
        "outputId": "8b7224eb-d201-48fd-9569-bffc5662c39d"
      },
      "source": [
        "img_array.shape"
      ],
      "execution_count": null,
      "outputs": [
        {
          "output_type": "execute_result",
          "data": {
            "text/plain": [
              "(35887, 48, 48, 1)"
            ]
          },
          "metadata": {
            "tags": []
          },
          "execution_count": 12
        }
      ]
    },
    {
      "cell_type": "code",
      "metadata": {
        "id": "jOI4KOtQRQDF"
      },
      "source": [
        "from sklearn.model_selection import train_test_split\n",
        "\n",
        "X_train, X_test, y_train, y_test = train_test_split(img_array,emValues,test_size=0.2)"
      ],
      "execution_count": null,
      "outputs": []
    },
    {
      "cell_type": "code",
      "metadata": {
        "id": "nXpUEFnfT_Nx"
      },
      "source": [
        "X_train=X_train/255\n",
        "X_test = X_test/255"
      ],
      "execution_count": null,
      "outputs": []
    },
    {
      "cell_type": "code",
      "metadata": {
        "colab": {
          "base_uri": "https://localhost:8080/"
        },
        "id": "sP_uDNGdUDBK",
        "outputId": "cde165c0-9f47-4661-9d9e-ae98b7a4fa14"
      },
      "source": [
        "X_train.shape , y_train , X_test.shape, y_test"
      ],
      "execution_count": null,
      "outputs": [
        {
          "output_type": "execute_result",
          "data": {
            "text/plain": [
              "((28709, 48, 48, 1),\n",
              " array([3, 5, 3, ..., 2, 4, 4]),\n",
              " (7178, 48, 48, 1),\n",
              " array([6, 0, 6, ..., 4, 3, 4]))"
            ]
          },
          "metadata": {
            "tags": []
          },
          "execution_count": 15
        }
      ]
    },
    {
      "cell_type": "code",
      "metadata": {
        "id": "TFENSGRRUMWO"
      },
      "source": [
        "import tensorflow as tf\n",
        "\n",
        "base_model = tf.keras.models.Sequential(\n",
        "                                 [     \n",
        "                                     tf.keras.layers.Conv2D(filters=64,kernel_size=(3,3),activation='relu',input_shape = (48,48,1)),\n",
        "                                     tf.keras.layers.Conv2D(filters=64,kernel_size=(3,3),activation='relu',input_shape = (48,48,64))\n",
        "                                     tf.keras.layers.MaxPool2D(2,2),\n",
        "                                     tf.keras.layers.BatchNormalization(),\n",
        "                                        \n",
        "                                     tf.keras.layers.Conv2D(128,(3,3),activation='relu'),\n",
        "                                     tf.keras.layers.MaxPool2D(2,2),\n",
        "                                     tf.keras.layers.BatchNormalization(),\n",
        "                                        \n",
        "                                                                \n",
        "                                     tf.keras.layers.Conv2D(512,(3,3),activation='relu'),\n",
        "                                     tf.keras.layers.Dropout(.3),\n",
        "                                     tf.keras.layers.MaxPool2D(2,2),\n",
        "                                     tf.keras.layers.BatchNormalization(),\n",
        "\n",
        "                                     tf.keras.layers.Flatten(),    \n",
        "                                     tf.keras.layers.Dense(4096,activation='relu'),\n",
        "                                     tf.keras.layers.Dense(7,activation = 'softmax')                \n",
        "                                   ]\n",
        "                              )"
      ],
      "execution_count": null,
      "outputs": []
    },
    {
      "cell_type": "code",
      "metadata": {
        "colab": {
          "base_uri": "https://localhost:8080/"
        },
        "id": "GynryCmTlCXI",
        "outputId": "43d6b84b-5d59-4f1d-fa91-292051c990d9"
      },
      "source": [
        "base_model.summary()"
      ],
      "execution_count": null,
      "outputs": [
        {
          "output_type": "stream",
          "text": [
            "Model: \"sequential\"\n",
            "_________________________________________________________________\n",
            "Layer (type)                 Output Shape              Param #   \n",
            "=================================================================\n",
            "conv2d (Conv2D)              (None, 46, 46, 64)        640       \n",
            "_________________________________________________________________\n",
            "max_pooling2d (MaxPooling2D) (None, 23, 23, 64)        0         \n",
            "_________________________________________________________________\n",
            "batch_normalization (BatchNo (None, 23, 23, 64)        256       \n",
            "_________________________________________________________________\n",
            "conv2d_1 (Conv2D)            (None, 21, 21, 128)       73856     \n",
            "_________________________________________________________________\n",
            "max_pooling2d_1 (MaxPooling2 (None, 10, 10, 128)       0         \n",
            "_________________________________________________________________\n",
            "batch_normalization_1 (Batch (None, 10, 10, 128)       512       \n",
            "_________________________________________________________________\n",
            "conv2d_2 (Conv2D)            (None, 8, 8, 512)         590336    \n",
            "_________________________________________________________________\n",
            "dropout (Dropout)            (None, 8, 8, 512)         0         \n",
            "_________________________________________________________________\n",
            "max_pooling2d_2 (MaxPooling2 (None, 4, 4, 512)         0         \n",
            "_________________________________________________________________\n",
            "batch_normalization_2 (Batch (None, 4, 4, 512)         2048      \n",
            "_________________________________________________________________\n",
            "flatten (Flatten)            (None, 8192)              0         \n",
            "_________________________________________________________________\n",
            "dense (Dense)                (None, 4096)              33558528  \n",
            "_________________________________________________________________\n",
            "dense_1 (Dense)              (None, 7)                 28679     \n",
            "=================================================================\n",
            "Total params: 34,254,855\n",
            "Trainable params: 34,253,447\n",
            "Non-trainable params: 1,408\n",
            "_________________________________________________________________\n"
          ],
          "name": "stdout"
        }
      ]
    },
    {
      "cell_type": "code",
      "metadata": {
        "id": "GpCExQqJnh9S"
      },
      "source": [
        "base_model.compile( \n",
        "                  optimizer= 'adam',\n",
        "                  loss='sparse_categorical_crossentropy',\n",
        "                  metrics=['accuracy']\n",
        "                )"
      ],
      "execution_count": null,
      "outputs": []
    },
    {
      "cell_type": "code",
      "metadata": {
        "colab": {
          "base_uri": "https://localhost:8080/"
        },
        "id": "GKXt13b0pyQk",
        "outputId": "89a86dbb-66db-4939-e752-a5b8cfd7729d"
      },
      "source": [
        "base_model.fit(X_train,y_train, epochs=15)"
      ],
      "execution_count": null,
      "outputs": [
        {
          "output_type": "stream",
          "text": [
            "Epoch 1/15\n",
            "898/898 [==============================] - 45s 15ms/step - loss: 2.0929 - accuracy: 0.4089\n",
            "Epoch 2/15\n",
            "898/898 [==============================] - 14s 15ms/step - loss: 1.2779 - accuracy: 0.5187\n",
            "Epoch 3/15\n",
            "898/898 [==============================] - 14s 15ms/step - loss: 1.1381 - accuracy: 0.5721\n",
            "Epoch 4/15\n",
            "898/898 [==============================] - 14s 15ms/step - loss: 1.0167 - accuracy: 0.6173\n",
            "Epoch 5/15\n",
            "898/898 [==============================] - 14s 15ms/step - loss: 0.8829 - accuracy: 0.6744\n",
            "Epoch 6/15\n",
            "898/898 [==============================] - 14s 15ms/step - loss: 0.7418 - accuracy: 0.7259\n",
            "Epoch 7/15\n",
            "898/898 [==============================] - 14s 15ms/step - loss: 0.5718 - accuracy: 0.7942\n",
            "Epoch 8/15\n",
            "898/898 [==============================] - 14s 15ms/step - loss: 0.4640 - accuracy: 0.8372\n",
            "Epoch 9/15\n",
            "898/898 [==============================] - 14s 15ms/step - loss: 0.3696 - accuracy: 0.8743\n",
            "Epoch 10/15\n",
            "898/898 [==============================] - 14s 15ms/step - loss: 0.3074 - accuracy: 0.8964\n",
            "Epoch 11/15\n",
            "898/898 [==============================] - 14s 15ms/step - loss: 0.2638 - accuracy: 0.9125\n",
            "Epoch 12/15\n",
            "898/898 [==============================] - 14s 15ms/step - loss: 0.2396 - accuracy: 0.9207\n",
            "Epoch 13/15\n",
            "898/898 [==============================] - 14s 15ms/step - loss: 0.2018 - accuracy: 0.9366\n",
            "Epoch 14/15\n",
            "898/898 [==============================] - 14s 15ms/step - loss: 0.1801 - accuracy: 0.9419\n",
            "Epoch 15/15\n",
            "898/898 [==============================] - 14s 15ms/step - loss: 0.1836 - accuracy: 0.9437\n"
          ],
          "name": "stdout"
        },
        {
          "output_type": "execute_result",
          "data": {
            "text/plain": [
              "<tensorflow.python.keras.callbacks.History at 0x7fb2a05891d0>"
            ]
          },
          "metadata": {
            "tags": []
          },
          "execution_count": 19
        }
      ]
    },
    {
      "cell_type": "code",
      "metadata": {
        "id": "KfIwSj-Ip-a5"
      },
      "source": [
        "y_pred = base_model.predict(X_test)"
      ],
      "execution_count": null,
      "outputs": []
    },
    {
      "cell_type": "code",
      "metadata": {
        "colab": {
          "base_uri": "https://localhost:8080/"
        },
        "id": "zHkZbz0pt-br",
        "outputId": "b33d7053-6399-4ffc-c1da-8532377d4408"
      },
      "source": [
        "print(y_test[:5])\n",
        "y_pred[:5]"
      ],
      "execution_count": null,
      "outputs": [
        {
          "output_type": "stream",
          "text": [
            "[6 0 6 5 2]\n"
          ],
          "name": "stdout"
        },
        {
          "output_type": "execute_result",
          "data": {
            "text/plain": [
              "array([[2.4404436e-02, 1.4527754e-03, 2.7182919e-01, 1.0424996e-01,\n",
              "        2.2253542e-01, 3.8746845e-02, 3.3678135e-01],\n",
              "       [8.4200281e-01, 1.3017993e-01, 1.8187319e-03, 1.1552711e-04,\n",
              "        9.4748620e-04, 2.2347704e-02, 2.5877513e-03],\n",
              "       [1.3190061e-01, 8.1130667e-05, 1.7574139e-02, 8.1935439e-05,\n",
              "        1.7656863e-01, 2.3463662e-03, 6.7144722e-01],\n",
              "       [6.2178230e-01, 4.9981959e-03, 3.0086496e-01, 2.0800637e-02,\n",
              "        3.4011577e-03, 4.7105916e-02, 1.0468478e-03],\n",
              "       [1.8810283e-02, 3.7566200e-03, 8.7380284e-01, 7.1819052e-03,\n",
              "        3.1369664e-02, 5.4741763e-03, 5.9604499e-02]], dtype=float32)"
            ]
          },
          "metadata": {
            "tags": []
          },
          "execution_count": 21
        }
      ]
    },
    {
      "cell_type": "code",
      "metadata": {
        "colab": {
          "base_uri": "https://localhost:8080/"
        },
        "id": "1hSn6JKlvROb",
        "outputId": "31ccea38-29b4-4910-b4ff-802e59a45056"
      },
      "source": [
        "base_model.evaluate(X_test,y_test)"
      ],
      "execution_count": null,
      "outputs": [
        {
          "output_type": "stream",
          "text": [
            "225/225 [==============================] - 1s 5ms/step - loss: 1.9279 - accuracy: 0.5536\n"
          ],
          "name": "stdout"
        },
        {
          "output_type": "execute_result",
          "data": {
            "text/plain": [
              "[1.9278690814971924, 0.5536361336708069]"
            ]
          },
          "metadata": {
            "tags": []
          },
          "execution_count": 23
        }
      ]
    },
    {
      "cell_type": "code",
      "metadata": {
        "colab": {
          "base_uri": "https://localhost:8080/"
        },
        "id": "sVVzSFG1vaav",
        "outputId": "f76a6a4d-4507-465a-e12c-20dc9cc176fb"
      },
      "source": [
        "y_predicted = [np.argmax(i) for i in y_pred]\n",
        "y_predicted[:5]"
      ],
      "execution_count": null,
      "outputs": [
        {
          "output_type": "execute_result",
          "data": {
            "text/plain": [
              "[6, 0, 6, 0, 2]"
            ]
          },
          "metadata": {
            "tags": []
          },
          "execution_count": 24
        }
      ]
    },
    {
      "cell_type": "code",
      "metadata": {
        "colab": {
          "base_uri": "https://localhost:8080/",
          "height": 701
        },
        "id": "IEwm-819y1rs",
        "outputId": "c42dfdd9-0b35-4c56-86fc-cc53cbfd3ad6"
      },
      "source": [
        "! pip install -q scikit-plot\n",
        "import scikitplot as skplt\n",
        "\n",
        "skplt.metrics.plot_confusion_matrix(\n",
        "    y_test, \n",
        "    y_predicted,\n",
        "    figsize=(12,12))"
      ],
      "execution_count": null,
      "outputs": [
        {
          "output_type": "execute_result",
          "data": {
            "text/plain": [
              "<matplotlib.axes._subplots.AxesSubplot at 0x7fb2a008dfd0>"
            ]
          },
          "metadata": {
            "tags": []
          },
          "execution_count": 25
        },
        {
          "output_type": "display_data",
          "data": {
            "image/png": "[encoded data removed]",
            "text/plain": [
              "<Figure size 864x864 with 2 Axes>"
            ]
          },
          "metadata": {
            "tags": [],
            "needs_background": "light"
          }
        }
      ]
    },
    {
      "cell_type": "code",
      "metadata": {
        "id": "YUXuVOR1-yrs"
      },
      "source": [
        "from sklearn.metrics import classification_report"
      ],
      "execution_count": null,
      "outputs": []
    },
    {
      "cell_type": "code",
      "metadata": {
        "colab": {
          "base_uri": "https://localhost:8080/"
        },
        "id": "PqL9oQ0w_CfF",
        "outputId": "022e1df2-21b8-4ef1-9a81-6afc2c97c441"
      },
      "source": [
        "target_names = ['anger', 'disgust', 'fear', 'happiness', 'sadness', 'surprise', 'neutral']\n",
        "print(classification_report(y_test, y_predicted, target_names=target_names))"
      ],
      "execution_count": null,
      "outputs": [
        {
          "output_type": "stream",
          "text": [
            "              precision    recall  f1-score   support\n",
            "\n",
            "       anger       0.56      0.39      0.46      1002\n",
            "     disgust       0.52      0.45      0.48       115\n",
            "        fear       0.48      0.24      0.32      1021\n",
            "   happiness       0.72      0.78      0.75      1776\n",
            "     sadness       0.46      0.37      0.41      1222\n",
            "    surprise       0.69      0.71      0.70       831\n",
            "     neutral       0.41      0.71      0.52      1211\n",
            "\n",
            "    accuracy                           0.55      7178\n",
            "   macro avg       0.55      0.52      0.52      7178\n",
            "weighted avg       0.56      0.55      0.54      7178\n",
            "\n"
          ],
          "name": "stdout"
        }
      ]
    },
    {
      "cell_type": "code",
      "metadata": {
        "id": "zPBhV1bs_0Oy"
      },
      "source": [
        ""
      ],
      "execution_count": null,
      "outputs": []
    }
  ]
}